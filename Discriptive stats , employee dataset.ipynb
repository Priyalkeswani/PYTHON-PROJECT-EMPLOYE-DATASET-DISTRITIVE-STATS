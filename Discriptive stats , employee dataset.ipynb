{
 "cells": [
  {
   "cell_type": "markdown",
   "id": "5c236706-7743-47c3-827e-448d7bc2855c",
   "metadata": {},
   "source": [
    "### Task 1 - Load and study the data\n",
    "Load the data and study its features such as:\n",
    "\n",
    "The number of employees<br>\n",
    "The number of features<br>\n",
    "The types of features"
   ]
  },
  {
   "cell_type": "code",
   "execution_count": 6,
   "id": "b60f9dbb-6790-4b2a-b908-b4b2cedc5024",
   "metadata": {},
   "outputs": [],
   "source": [
    "# Load \"numpy\" and \"pandas\" for manipulating numbers and dataframes\n",
    "# Load \"matplotlib.pyplot\" and \"seaborn\" for data visualisation\n",
    "\n",
    "import pandas as pd\n",
    "import numpy as np\n",
    "import matplotlib.pyplot as plt\n",
    "import seaborn as sns\n"
   ]
  },
  {
   "cell_type": "code",
   "execution_count": 12,
   "id": "209648c9-47f2-4b20-8f1f-b77d9ae52191",
   "metadata": {},
   "outputs": [
    {
     "data": {
      "text/html": [
       "<div>\n",
       "<style scoped>\n",
       "    .dataframe tbody tr th:only-of-type {\n",
       "        vertical-align: middle;\n",
       "    }\n",
       "\n",
       "    .dataframe tbody tr th {\n",
       "        vertical-align: top;\n",
       "    }\n",
       "\n",
       "    .dataframe thead th {\n",
       "        text-align: right;\n",
       "    }\n",
       "</style>\n",
       "<table border=\"1\" class=\"dataframe\">\n",
       "  <thead>\n",
       "    <tr style=\"text-align: right;\">\n",
       "      <th></th>\n",
       "      <th>id</th>\n",
       "      <th>groups</th>\n",
       "      <th>age</th>\n",
       "      <th>healthy_eating</th>\n",
       "      <th>active_lifestyle</th>\n",
       "      <th>salary</th>\n",
       "    </tr>\n",
       "  </thead>\n",
       "  <tbody>\n",
       "    <tr>\n",
       "      <th>0</th>\n",
       "      <td>0</td>\n",
       "      <td>A</td>\n",
       "      <td>36</td>\n",
       "      <td>5</td>\n",
       "      <td>5</td>\n",
       "      <td>2297</td>\n",
       "    </tr>\n",
       "    <tr>\n",
       "      <th>1</th>\n",
       "      <td>1</td>\n",
       "      <td>A</td>\n",
       "      <td>26</td>\n",
       "      <td>3</td>\n",
       "      <td>5</td>\n",
       "      <td>1134</td>\n",
       "    </tr>\n",
       "    <tr>\n",
       "      <th>2</th>\n",
       "      <td>2</td>\n",
       "      <td>A</td>\n",
       "      <td>61</td>\n",
       "      <td>8</td>\n",
       "      <td>1</td>\n",
       "      <td>4969</td>\n",
       "    </tr>\n",
       "    <tr>\n",
       "      <th>3</th>\n",
       "      <td>3</td>\n",
       "      <td>O</td>\n",
       "      <td>24</td>\n",
       "      <td>3</td>\n",
       "      <td>6</td>\n",
       "      <td>902</td>\n",
       "    </tr>\n",
       "    <tr>\n",
       "      <th>4</th>\n",
       "      <td>4</td>\n",
       "      <td>O</td>\n",
       "      <td>39</td>\n",
       "      <td>6</td>\n",
       "      <td>2</td>\n",
       "      <td>3574</td>\n",
       "    </tr>\n",
       "  </tbody>\n",
       "</table>\n",
       "</div>"
      ],
      "text/plain": [
       "   id groups  age  healthy_eating  active_lifestyle  salary\n",
       "0   0      A   36               5                 5    2297\n",
       "1   1      A   26               3                 5    1134\n",
       "2   2      A   61               8                 1    4969\n",
       "3   3      O   24               3                 6     902\n",
       "4   4      O   39               6                 2    3574"
      ]
     },
     "execution_count": 12,
     "metadata": {},
     "output_type": "execute_result"
    }
   ],
   "source": [
    "# Read in the \"Employee Dataset\" file as a Pandas DataFrame\n",
    "\n",
    "data = pd.read_csv('Employee Dataset.csv')\n",
    "data.head()"
   ]
  },
  {
   "cell_type": "code",
   "execution_count": 16,
   "id": "ede266dc-fd78-4eef-8329-aae45cb6a2ff",
   "metadata": {},
   "outputs": [
    {
     "data": {
      "text/plain": [
       "(50, 6)"
      ]
     },
     "execution_count": 16,
     "metadata": {},
     "output_type": "execute_result"
    }
   ],
   "source": [
    "#  Get the dimensions of the dataframe\n",
    "data.shape"
   ]
  },
  {
   "cell_type": "code",
   "execution_count": 18,
   "id": "8c2b4e7f-8a19-43bf-8b59-8761ea8bfd49",
   "metadata": {},
   "outputs": [
    {
     "data": {
      "text/plain": [
       "RangeIndex(start=0, stop=50, step=1)"
      ]
     },
     "execution_count": 18,
     "metadata": {},
     "output_type": "execute_result"
    }
   ],
   "source": [
    "# # Get the row names of the dataframe\n",
    "data.index"
   ]
  },
  {
   "cell_type": "code",
   "execution_count": 20,
   "id": "861616bb-d1c6-4be1-a83a-4814bb6c2de9",
   "metadata": {},
   "outputs": [
    {
     "data": {
      "text/plain": [
       "Index(['id', 'groups', 'age', 'healthy_eating', 'active_lifestyle', 'salary'], dtype='object')"
      ]
     },
     "execution_count": 20,
     "metadata": {},
     "output_type": "execute_result"
    }
   ],
   "source": [
    "# Get the column names of the dataframe\n",
    "data.columns"
   ]
  },
  {
   "cell_type": "code",
   "execution_count": 24,
   "id": "ed1ee5d8-287c-4f36-a7bb-1d50d74b0562",
   "metadata": {},
   "outputs": [
    {
     "name": "stdout",
     "output_type": "stream",
     "text": [
      "<class 'pandas.core.frame.DataFrame'>\n",
      "RangeIndex: 50 entries, 0 to 49\n",
      "Data columns (total 6 columns):\n",
      " #   Column            Non-Null Count  Dtype \n",
      "---  ------            --------------  ----- \n",
      " 0   id                50 non-null     int64 \n",
      " 1   groups            50 non-null     object\n",
      " 2   age               50 non-null     int64 \n",
      " 3   healthy_eating    50 non-null     int64 \n",
      " 4   active_lifestyle  50 non-null     int64 \n",
      " 5   salary            50 non-null     int64 \n",
      "dtypes: int64(5), object(1)\n",
      "memory usage: 2.5+ KB\n"
     ]
    }
   ],
   "source": [
    "#Look at basic information about the dataframe\n",
    "data.info()"
   ]
  },
  {
   "cell_type": "markdown",
   "id": "0686031b-c035-4537-84cb-85777a5ce4b7",
   "metadata": {},
   "source": [
    "### observations from Task 1\n",
    "There are 50 rows and 6 columns in the data. Each row contains the employee specifics of a certain employee in the company\n",
    "\n",
    "The features in the data set are:<br>\n",
    "The id of the employees<br>\n",
    "Their respective groups and age<br>\n",
    "Their healthy_eating and active_lifestyle<br>\n",
    "Their salary"
   ]
  },
  {
   "cell_type": "markdown",
   "id": "ec7c9e29-ac28-4322-9b15-4f0276876f5b",
   "metadata": {},
   "source": [
    "### Task 2 - Visualise the distributions of ratings and compensations\n",
    "We will now visualise the distributions of employee ratings and compensations\n",
    "\n",
    "We will create the following plots:\n",
    "\n",
    "A scatter plot of employee age and employee salary, healthy_eating and active_lifestyle, health_eating and salary\n",
    "\n",
    "A count plot of groups\n",
    "\n",
    "A histogram of employee salary"
   ]
  },
  {
   "cell_type": "code",
   "execution_count": 32,
   "id": "a9ccdbc9-3a25-45eb-9d3b-399d5fea8f83",
   "metadata": {},
   "outputs": [
    {
     "data": {
      "image/png": "[encoded data removed]",
      "text/plain": [
       "<Figure size 900x400 with 1 Axes>"
      ]
     },
     "metadata": {},
     "output_type": "display_data"
    }
   ],
   "source": [
    "# Create a scatter plot of the \"Age\" and \"Employee Salary\" features\n",
    "\n",
    "plt.figure(figsize = (9,4))\n",
    "\n",
    "sns.scatterplot(data = data ,x = 'age', y = 'salary', color = 'black',\n",
    "             edgecolor = 'linen', alpha = 0.7)\n",
    "\n",
    "plt.title(\"Scatterplot of Employee Age v/s Employee Salary\")\n",
    "plt.xlabel('Employee Age')\n",
    "plt.ylabel('Employee Salary')\n",
    "plt.show()"
   ]
  },
  {
   "cell_type": "markdown",
   "id": "07cb8ff4-89e3-444f-a273-da982d029482",
   "metadata": {},
   "source": [
    "### Observations:\n",
    "\n",
    "We observe that in general, there is a relationship between age and Salary of employee\n",
    "\n",
    "As age increases, the Salary also increases , though there are some outliers present as well"
   ]
  },
  {
   "cell_type": "code",
   "execution_count": 35,
   "id": "7c214d6f-8069-4857-a6fa-fc1de97ad9df",
   "metadata": {},
   "outputs": [
    {
     "data": {
      "image/png": "[encoded data removed]",
      "text/plain": [
       "<Figure size 900x400 with 1 Axes>"
      ]
     },
     "metadata": {},
     "output_type": "display_data"
    }
   ],
   "source": [
    "# Create a scatter plot of the \"healthy_eating\" and \"active_lifestyle\" features\n",
    "\n",
    "plt.figure(figsize = (9,4))\n",
    "\n",
    "sns.scatterplot(data = data ,x = 'healthy_eating', y = 'active_lifestyle', color = 'red',\n",
    "             edgecolor = 'linen', alpha = 0.7)\n",
    "\n",
    "plt.title(\"Scatterplot of Healthy Eating v/s Active Lifestyle\")\n",
    "plt.xlabel('Healthy Eating')\n",
    "plt.ylabel('Active Lifestyle')\n",
    "plt.show()"
   ]
  },
  {
   "cell_type": "markdown",
   "id": "caf3b488-309d-4ea6-bf92-33f157cbcb20",
   "metadata": {},
   "source": [
    "### Observations:\n",
    "\n",
    "We observe that in general, there is a relationship between healthy_eating and active_lifestyle of employee\n",
    "\n",
    "As healthy_eating increases, the active_lifestyle also increases"
   ]
  },
  {
   "cell_type": "code",
   "execution_count": 38,
   "id": "06435714-c31e-4739-a4a1-499733971d39",
   "metadata": {},
   "outputs": [
    {
     "data": {
      "image/png": "[encoded data removed]",
      "text/plain": [
       "<Figure size 900x400 with 1 Axes>"
      ]
     },
     "metadata": {},
     "output_type": "display_data"
    }
   ],
   "source": [
    "# Create a scatter plot of the \"healthy_eating\" and \"salary\" features\n",
    "\n",
    "plt.figure(figsize = (9,4))\n",
    "\n",
    "sns.scatterplot(data = data ,x = 'healthy_eating', y = 'salary', color = 'k',\n",
    "             edgecolor = 'linen', alpha = 0.7)\n",
    "\n",
    "plt.title(\"Scatterplot of Healthy Eating v/s Salary\")\n",
    "plt.xlabel('Healthy Eating')\n",
    "plt.ylabel('Salary')\n",
    "plt.show()"
   ]
  },
  {
   "cell_type": "markdown",
   "id": "245f50b1-db96-4bcb-b8b4-26c2fa140423",
   "metadata": {},
   "source": [
    "### Observations:\n",
    "\n",
    "We observe that in general, there is a relationship between healthy_eating and salary of employee\n",
    "\n",
    "As healthy_eating increases, the salary also increases"
   ]
  },
  {
   "cell_type": "code",
   "execution_count": 49,
   "id": "1dd5949c-3e07-40ba-aeb6-c38f79ade0a9",
   "metadata": {},
   "outputs": [
    {
     "data": {
      "image/png": "[encoded data removed]",
      "text/plain": [
       "<Figure size 900x400 with 1 Axes>"
      ]
     },
     "metadata": {},
     "output_type": "display_data"
    }
   ],
   "source": [
    "# Create a count plot of the \"groups\" feature\n",
    "\n",
    "plt.figure(figsize = (9,4))\n",
    "\n",
    "sns.countplot(data = data ,x = 'groups',color ='pink',  edgecolor = 'black', alpha = 0.9)\n",
    "\n",
    "plt.title(\"Count Plot of Groups\")\n",
    "plt.xlabel('Groups')\n",
    "plt.ylabel('Count')\n",
    "plt.show()"
   ]
  },
  {
   "cell_type": "markdown",
   "id": "299f5199-1d4c-4aad-8030-0cf42c4779d7",
   "metadata": {},
   "source": [
    "### Observation:\n",
    "\n",
    "We see that most employees either belong to Group A or Group O, with group A having maximum frequency"
   ]
  },
  {
   "cell_type": "code",
   "execution_count": 58,
   "id": "eb76b90a-c1ca-4920-8a8d-b36abf9724ce",
   "metadata": {},
   "outputs": [
    {
     "data": {
      "image/png": "[encoded data removed]",
      "text/plain": [
       "<Figure size 900x400 with 1 Axes>"
      ]
     },
     "metadata": {},
     "output_type": "display_data"
    }
   ],
   "source": [
    "# Create a histogram of the \"Salary\" feature\n",
    "\n",
    "plt.figure(figsize = (9,4))\n",
    "\n",
    "sns.histplot(data = data ,x = 'salary', color = 'yellow',\n",
    "             edgecolor = 'black', alpha = 0.9, bins = 10)\n",
    "\n",
    "plt.title(\"Histogram of Salary\")\n",
    "plt.xlabel('Salary')\n",
    "plt.ylabel('Count')\n",
    "plt.show()\n"
   ]
  },
  {
   "cell_type": "markdown",
   "id": "352b4b16-9efa-410b-ad7e-45c362ee0a7b",
   "metadata": {},
   "source": [
    "### Observations:\n",
    "\n",
    "We see that the salaries are not uniform, which is not necessarily a discrepancy\n",
    "\n",
    "But we do observe that there are employees with salaries on either extremities of the histogram\n",
    "\n",
    "Based on the histogram, we can see that the count of highest earning employee is very less"
   ]
  },
  {
   "cell_type": "markdown",
   "id": "4ca8647f-19ed-4871-b33d-1b70f49b1135",
   "metadata": {},
   "source": [
    "### Observations from Task 2\n",
    "Generally, as the employee's age increase, there is an increase in the employee salary\n",
    "\n",
    "Generally, as the employee's healthy_eating habit increase, there is an increase in the employee salary as well\n",
    "\n",
    "However, the employee salary values are more spread out\n",
    "\n",
    "An employee of healthy_eating greater than 8 can be taken as 8 only\n",
    "\n",
    "An employee salary less than 1000 can be considered as a lower salary"
   ]
  },
  {
   "cell_type": "markdown",
   "id": "e88df510-8288-43c8-89b0-0c5c75ad7ea7",
   "metadata": {},
   "source": [
    "### Task 3 - Subset the data based on thresholds\n",
    "We will now subset the original data frame based on the following conditions:\n",
    "\n",
    "Employees with healthy_eating greater than 8\n",
    "\n",
    "Employees with Salary less than 1000\n",
    "\n",
    "Employees with healthy_eating greater than 8 and with salary less than 1000"
   ]
  },
  {
   "cell_type": "code",
   "execution_count": 63,
   "id": "858e13d5-5f18-4b7f-afea-b9977b50d3d1",
   "metadata": {},
   "outputs": [
    {
     "data": {
      "text/html": [
       "<div>\n",
       "<style scoped>\n",
       "    .dataframe tbody tr th:only-of-type {\n",
       "        vertical-align: middle;\n",
       "    }\n",
       "\n",
       "    .dataframe tbody tr th {\n",
       "        vertical-align: top;\n",
       "    }\n",
       "\n",
       "    .dataframe thead th {\n",
       "        text-align: right;\n",
       "    }\n",
       "</style>\n",
       "<table border=\"1\" class=\"dataframe\">\n",
       "  <thead>\n",
       "    <tr style=\"text-align: right;\">\n",
       "      <th></th>\n",
       "      <th>id</th>\n",
       "      <th>groups</th>\n",
       "      <th>age</th>\n",
       "      <th>healthy_eating</th>\n",
       "      <th>active_lifestyle</th>\n",
       "      <th>salary</th>\n",
       "    </tr>\n",
       "  </thead>\n",
       "  <tbody>\n",
       "    <tr>\n",
       "      <th>26</th>\n",
       "      <td>26</td>\n",
       "      <td>A</td>\n",
       "      <td>62</td>\n",
       "      <td>9</td>\n",
       "      <td>6</td>\n",
       "      <td>700</td>\n",
       "    </tr>\n",
       "  </tbody>\n",
       "</table>\n",
       "</div>"
      ],
      "text/plain": [
       "    id groups  age  healthy_eating  active_lifestyle  salary\n",
       "26  26      A   62               9                 6     700"
      ]
     },
     "execution_count": 63,
     "metadata": {},
     "output_type": "execute_result"
    }
   ],
   "source": [
    "# Employee healthy_eating is greater than 8\n",
    "\n",
    "sub1 = data[data['healthy_eating'] > 8]\n",
    "sub1"
   ]
  },
  {
   "cell_type": "code",
   "execution_count": 65,
   "id": "523f0b16-dc56-48f3-932c-fe73b0d493de",
   "metadata": {},
   "outputs": [
    {
     "data": {
      "text/html": [
       "<div>\n",
       "<style scoped>\n",
       "    .dataframe tbody tr th:only-of-type {\n",
       "        vertical-align: middle;\n",
       "    }\n",
       "\n",
       "    .dataframe tbody tr th {\n",
       "        vertical-align: top;\n",
       "    }\n",
       "\n",
       "    .dataframe thead th {\n",
       "        text-align: right;\n",
       "    }\n",
       "</style>\n",
       "<table border=\"1\" class=\"dataframe\">\n",
       "  <thead>\n",
       "    <tr style=\"text-align: right;\">\n",
       "      <th></th>\n",
       "      <th>id</th>\n",
       "      <th>groups</th>\n",
       "      <th>age</th>\n",
       "      <th>healthy_eating</th>\n",
       "      <th>active_lifestyle</th>\n",
       "      <th>salary</th>\n",
       "    </tr>\n",
       "  </thead>\n",
       "  <tbody>\n",
       "    <tr>\n",
       "      <th>3</th>\n",
       "      <td>3</td>\n",
       "      <td>O</td>\n",
       "      <td>24</td>\n",
       "      <td>3</td>\n",
       "      <td>6</td>\n",
       "      <td>902</td>\n",
       "    </tr>\n",
       "    <tr>\n",
       "      <th>15</th>\n",
       "      <td>15</td>\n",
       "      <td>B</td>\n",
       "      <td>26</td>\n",
       "      <td>3</td>\n",
       "      <td>8</td>\n",
       "      <td>662</td>\n",
       "    </tr>\n",
       "    <tr>\n",
       "      <th>18</th>\n",
       "      <td>18</td>\n",
       "      <td>A</td>\n",
       "      <td>27</td>\n",
       "      <td>2</td>\n",
       "      <td>6</td>\n",
       "      <td>779</td>\n",
       "    </tr>\n",
       "    <tr>\n",
       "      <th>26</th>\n",
       "      <td>26</td>\n",
       "      <td>A</td>\n",
       "      <td>62</td>\n",
       "      <td>9</td>\n",
       "      <td>6</td>\n",
       "      <td>700</td>\n",
       "    </tr>\n",
       "    <tr>\n",
       "      <th>32</th>\n",
       "      <td>32</td>\n",
       "      <td>A</td>\n",
       "      <td>22</td>\n",
       "      <td>3</td>\n",
       "      <td>8</td>\n",
       "      <td>662</td>\n",
       "    </tr>\n",
       "    <tr>\n",
       "      <th>35</th>\n",
       "      <td>35</td>\n",
       "      <td>O</td>\n",
       "      <td>27</td>\n",
       "      <td>2</td>\n",
       "      <td>4</td>\n",
       "      <td>785</td>\n",
       "    </tr>\n",
       "    <tr>\n",
       "      <th>38</th>\n",
       "      <td>38</td>\n",
       "      <td>AB</td>\n",
       "      <td>26</td>\n",
       "      <td>3</td>\n",
       "      <td>7</td>\n",
       "      <td>670</td>\n",
       "    </tr>\n",
       "    <tr>\n",
       "      <th>39</th>\n",
       "      <td>39</td>\n",
       "      <td>B</td>\n",
       "      <td>29</td>\n",
       "      <td>2</td>\n",
       "      <td>6</td>\n",
       "      <td>779</td>\n",
       "    </tr>\n",
       "    <tr>\n",
       "      <th>43</th>\n",
       "      <td>43</td>\n",
       "      <td>O</td>\n",
       "      <td>23</td>\n",
       "      <td>4</td>\n",
       "      <td>10</td>\n",
       "      <td>556</td>\n",
       "    </tr>\n",
       "  </tbody>\n",
       "</table>\n",
       "</div>"
      ],
      "text/plain": [
       "    id groups  age  healthy_eating  active_lifestyle  salary\n",
       "3    3      O   24               3                 6     902\n",
       "15  15      B   26               3                 8     662\n",
       "18  18      A   27               2                 6     779\n",
       "26  26      A   62               9                 6     700\n",
       "32  32      A   22               3                 8     662\n",
       "35  35      O   27               2                 4     785\n",
       "38  38     AB   26               3                 7     670\n",
       "39  39      B   29               2                 6     779\n",
       "43  43      O   23               4                10     556"
      ]
     },
     "execution_count": 65,
     "metadata": {},
     "output_type": "execute_result"
    }
   ],
   "source": [
    "# salary less than 1000\n",
    "\n",
    "sub2 = data[data['salary'] < 1000]\n",
    "sub2"
   ]
  },
  {
   "cell_type": "code",
   "execution_count": 69,
   "id": "b54510f5-065f-4311-995e-46518a7a5baa",
   "metadata": {},
   "outputs": [
    {
     "data": {
      "text/html": [
       "<div>\n",
       "<style scoped>\n",
       "    .dataframe tbody tr th:only-of-type {\n",
       "        vertical-align: middle;\n",
       "    }\n",
       "\n",
       "    .dataframe tbody tr th {\n",
       "        vertical-align: top;\n",
       "    }\n",
       "\n",
       "    .dataframe thead th {\n",
       "        text-align: right;\n",
       "    }\n",
       "</style>\n",
       "<table border=\"1\" class=\"dataframe\">\n",
       "  <thead>\n",
       "    <tr style=\"text-align: right;\">\n",
       "      <th></th>\n",
       "      <th>id</th>\n",
       "      <th>groups</th>\n",
       "      <th>age</th>\n",
       "      <th>healthy_eating</th>\n",
       "      <th>active_lifestyle</th>\n",
       "      <th>salary</th>\n",
       "    </tr>\n",
       "  </thead>\n",
       "  <tbody>\n",
       "    <tr>\n",
       "      <th>26</th>\n",
       "      <td>26</td>\n",
       "      <td>A</td>\n",
       "      <td>62</td>\n",
       "      <td>9</td>\n",
       "      <td>6</td>\n",
       "      <td>700</td>\n",
       "    </tr>\n",
       "  </tbody>\n",
       "</table>\n",
       "</div>"
      ],
      "text/plain": [
       "    id groups  age  healthy_eating  active_lifestyle  salary\n",
       "26  26      A   62               9                 6     700"
      ]
     },
     "execution_count": 69,
     "metadata": {},
     "output_type": "execute_result"
    }
   ],
   "source": [
    "# Employees with healthy_eating greater than 8 and with salary less than 1000\n",
    "\n",
    "sub = data[(data['healthy_eating']>8) & (data['salary']<1000)]\n",
    "sub"
   ]
  },
  {
   "cell_type": "markdown",
   "id": "3939f4d7-81b2-4948-9f6f-a146a74bb82d",
   "metadata": {},
   "source": [
    "### Observations:\n",
    "\n",
    "The only employee seemingly facing a discrepancy in salary as compared to healthy_eating is employee who is having id = 26\n",
    "\n",
    "The employee with id having 26 has a salary of 700"
   ]
  },
  {
   "cell_type": "markdown",
   "id": "4c62c3ba-3d0a-4d0b-8532-ab2880a7d96f",
   "metadata": {},
   "source": [
    "### Final Conclusions\r\n",
    "From the given data, we can use simple visualisations to get a sense of how data are distributed\r\n",
    "\r\n",
    "We can conduct preliminary analyses simply by subsetting data sets using well thought out thresholds and conditions"
   ]
  },
  {
   "cell_type": "code",
   "execution_count": null,
   "id": "2a4caf2b-01ef-4f8e-9ce3-9f712c3d93fb",
   "metadata": {},
   "outputs": [],
   "source": []
  }
 ],
 "metadata": {
  "kernelspec": {
   "display_name": "Python 3 (ipykernel)",
   "language": "python",
   "name": "python3"
  },
  "language_info": {
   "codemirror_mode": {
    "name": "ipython",
    "version": 3
   },
   "file_extension": ".py",
   "mimetype": "text/x-python",
   "name": "python",
   "nbconvert_exporter": "python",
   "pygments_lexer": "ipython3",
   "version": "3.12.4"
  }
 },
 "nbformat": 4,
 "nbformat_minor": 5
}
